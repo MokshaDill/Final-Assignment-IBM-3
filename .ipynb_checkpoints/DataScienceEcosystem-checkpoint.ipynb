{
 "cells": [
  {
   "cell_type": "markdown",
   "id": "84dc0028",
   "metadata": {},
   "source": [
    "# Data Science Tools and Ecosystem"
   ]
  },
  {
   "cell_type": "markdown",
   "id": "1ee42799",
   "metadata": {},
   "source": [
    "In this notebook, Data Science Tools and Ecosystem are summarized."
   ]
  },
  {
   "cell_type": "code",
   "execution_count": 1,
   "id": "b5764858",
   "metadata": {},
   "outputs": [
    {
     "ename": "SyntaxError",
     "evalue": "invalid syntax (2827169797.py, line 1)",
     "output_type": "error",
     "traceback": [
      "\u001b[1;36m  Cell \u001b[1;32mIn[1], line 1\u001b[1;36m\u001b[0m\n\u001b[1;33m    Some of the popular languages that Data Scientists use are:\u001b[0m\n\u001b[1;37m         ^\u001b[0m\n\u001b[1;31mSyntaxError\u001b[0m\u001b[1;31m:\u001b[0m invalid syntax\n"
     ]
    }
   ],
   "source": [
    "Some of the popular languages that Data Scientists use are:\n",
    "    Python\n",
    "    "
   ]
  },
  {
   "cell_type": "markdown",
   "id": "3f7ad0b4",
   "metadata": {},
   "source": [
    "Some of the popular languages that Data Scientists use are:\n",
    "\n",
    "1. **Python**\n",
    "   - Widely used for data analysis, machine learning, and statistical modeling.\n",
    "   - Rich ecosystem with libraries like NumPy, Pandas, and scikit-learn.\n",
    "\n",
    "2. **R**\n",
    "   - Especially popular for statistical computing and graphics.\n",
    "   - Comprehensive packages for data manipulation and visualization.\n",
    "\n",
    "3. **Julia** \n",
    "   - Growing in popularity for its speed and performance in scientific computing.\n",
    "   - Well-suited for tasks like numerical analysis and machine learning.\n",
    "\n",
    "4. **Scala**\n",
    "   - Often used in big data processing frameworks like Apache Spark.\n",
    "   - Combines functional and object-oriented programming paradigms.\n",
    "\n"
   ]
  },
  {
   "cell_type": "markdown",
   "id": "4dba2230",
   "metadata": {},
   "source": [
    "Some of the commonly used libraries used by Data Scientists include:\n",
    "    \n",
    "1. **NumPy**\n",
    "   \n",
    "2. **Pandas**\n",
    "   \n",
    "3. **Matplotlib**\n",
    "\n",
    "4. **scikit-learn**\n",
    "   \n"
   ]
  },
  {
   "cell_type": "markdown",
   "id": "97791449",
   "metadata": {},
   "source": [
    "\n",
    "| Data Science Tools      |\n",
    "|-------------------------|\n",
    "| Jupyter Notebooks      |\n",
    "| RStudio                 |\n",
    "| Anaconda                |\n"
   ]
  },
  {
   "cell_type": "code",
   "execution_count": null,
   "id": "16368f57",
   "metadata": {},
   "outputs": [],
   "source": []
  }
 ],
 "metadata": {
  "kernelspec": {
   "display_name": "Python 3 (ipykernel)",
   "language": "python",
   "name": "python3"
  },
  "language_info": {
   "codemirror_mode": {
    "name": "ipython",
    "version": 3
   },
   "file_extension": ".py",
   "mimetype": "text/x-python",
   "name": "python",
   "nbconvert_exporter": "python",
   "pygments_lexer": "ipython3",
   "version": "3.10.5"
  }
 },
 "nbformat": 4,
 "nbformat_minor": 5
}
