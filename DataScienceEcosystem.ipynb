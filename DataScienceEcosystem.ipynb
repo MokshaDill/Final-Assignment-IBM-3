{
 "cells": [
  {
   "cell_type": "markdown",
   "id": "c531b5cf",
   "metadata": {},
   "source": [
    "# Data Science Tools and Ecosystem"
   ]
  },
  {
   "cell_type": "markdown",
   "id": "a6290cef",
   "metadata": {},
   "source": [
    "In this notebook, Data Science Tools and Ecosystem are summarized."
   ]
  },
  {
   "cell_type": "code",
   "execution_count": 1,
   "id": "9e40bc49",
   "metadata": {},
   "outputs": [
    {
     "ename": "SyntaxError",
     "evalue": "invalid syntax (2827169797.py, line 1)",
     "output_type": "error",
     "traceback": [
      "\u001b[1;36m  Cell \u001b[1;32mIn[1], line 1\u001b[1;36m\u001b[0m\n\u001b[1;33m    Some of the popular languages that Data Scientists use are:\u001b[0m\n\u001b[1;37m         ^\u001b[0m\n\u001b[1;31mSyntaxError\u001b[0m\u001b[1;31m:\u001b[0m invalid syntax\n"
     ]
    }
   ],
   "source": [
    "Some of the popular languages that Data Scientists use are:\n",
    "    Python\n",
    "    "
   ]
  },
  {
   "cell_type": "markdown",
   "id": "e35c49ba",
   "metadata": {},
   "source": [
    "Some of the popular languages that Data Scientists use are:\n",
    "\n",
    "1. **Python**\n",
    "   - Widely used for data analysis, machine learning, and statistical modeling.\n",
    "   - Rich ecosystem with libraries like NumPy, Pandas, and scikit-learn.\n",
    "\n",
    "2. **R**\n",
    "   - Especially popular for statistical computing and graphics.\n",
    "   - Comprehensive packages for data manipulation and visualization.\n",
    "\n",
    "3. **Julia** \n",
    "   - Growing in popularity for its speed and performance in scientific computing.\n",
    "   - Well-suited for tasks like numerical analysis and machine learning.\n",
    "\n",
    "4. **Scala**\n",
    "   - Often used in big data processing frameworks like Apache Spark.\n",
    "   - Combines functional and object-oriented programming paradigms.\n",
    "\n"
   ]
  },
  {
   "cell_type": "markdown",
   "id": "f22dec8a",
   "metadata": {},
   "source": [
    "Some of the commonly used libraries used by Data Scientists include:\n",
    "    \n",
    "1. **NumPy**\n",
    "   \n",
    "2. **Pandas**\n",
    "   \n",
    "3. **Matplotlib**\n",
    "\n",
    "4. **scikit-learn**\n",
    "   \n"
   ]
  },
  {
   "cell_type": "markdown",
   "id": "178e1915",
   "metadata": {},
   "source": [
    "\n",
    "| Data Science Tools      |\n",
    "|-------------------------|\n",
    "| Jupyter Notebooks      |\n",
    "| RStudio                 |\n",
    "| Anaconda                |\n"
   ]
  },
  {
   "cell_type": "code",
   "execution_count": null,
   "id": "8ccc1587",
   "metadata": {},
   "outputs": [],
   "source": []
  },
  {
   "cell_type": "markdown",
   "id": "9d0a8e4f",
   "metadata": {},
   "source": [
    "### Below are a few examples of evaluating arithmetic expressions in Python"
   ]
  },
  {
   "cell_type": "markdown",
   "id": "efbd1843",
   "metadata": {},
   "source": [
    "This a simple arithmetic expression to mutiply then add integers"
   ]
  },
  {
   "cell_type": "code",
   "execution_count": 10,
   "id": "6760c17c",
   "metadata": {},
   "outputs": [
    {
     "data": {
      "text/plain": [
       "17"
      ]
     },
     "execution_count": 10,
     "metadata": {},
     "output_type": "execute_result"
    }
   ],
   "source": [
    "(3*4)+5"
   ]
  },
  {
   "cell_type": "markdown",
   "id": "ee1a3d60",
   "metadata": {},
   "source": [
    "\n",
    "This will convert 200 minutes to hours by diving by 60"
   ]
  },
  {
   "cell_type": "code",
   "execution_count": 13,
   "id": "f2020b53",
   "metadata": {},
   "outputs": [
    {
     "data": {
      "text/plain": [
       "3.3333333333333335"
      ]
     },
     "execution_count": 13,
     "metadata": {},
     "output_type": "execute_result"
    }
   ],
   "source": [
    "minutes = 200\n",
    "hours = minutes / 60\n",
    "hours"
   ]
  },
  {
   "cell_type": "markdown",
   "id": "9a2fd745",
   "metadata": {},
   "source": [
    "**Objectives:**\n",
    "- Explore popular languages for Data Science.\n",
    "- Identify commonly used libraries in Data Science.\n",
    "- Discover essential tools in the field of Data Science.\n",
    "- Learn how to convert minutes to hours using Python.\n",
    "- Understand the structure of a markdown cell and create formatted content."
   ]
  },
  {
   "cell_type": "code",
   "execution_count": null,
   "id": "a0bd3f1b",
   "metadata": {},
   "outputs": [],
   "source": []
  },
  {
   "cell_type": "markdown",
   "id": "8a566974",
   "metadata": {},
   "source": [
    "### Author  \n",
    "Moksha"
   ]
  },
  {
   "cell_type": "code",
   "execution_count": null,
   "id": "d0936456",
   "metadata": {},
   "outputs": [],
   "source": []
  },
  {
   "cell_type": "code",
   "execution_count": null,
   "id": "dcf68702",
   "metadata": {},
   "outputs": [],
   "source": []
  }
 ],
 "metadata": {
  "kernelspec": {
   "display_name": "Python 3 (ipykernel)",
   "language": "python",
   "name": "python3"
  },
  "language_info": {
   "codemirror_mode": {
    "name": "ipython",
    "version": 3
   },
   "file_extension": ".py",
   "mimetype": "text/x-python",
   "name": "python",
   "nbconvert_exporter": "python",
   "pygments_lexer": "ipython3",
   "version": "3.10.5"
  }
 },
 "nbformat": 4,
 "nbformat_minor": 5
}
